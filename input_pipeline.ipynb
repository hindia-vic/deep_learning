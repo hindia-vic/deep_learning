{
  "nbformat": 4,
  "nbformat_minor": 0,
  "metadata": {
    "colab": {
      "provenance": [],
      "authorship_tag": "ABX9TyMlOdUyvHS5t2zIl8KmhZS7",
      "include_colab_link": true
    },
    "kernelspec": {
      "name": "python3",
      "display_name": "Python 3"
    },
    "language_info": {
      "name": "python"
    }
  },
  "cells": [
    {
      "cell_type": "markdown",
      "metadata": {
        "id": "view-in-github",
        "colab_type": "text"
      },
      "source": [
        "<a href=\"https://colab.research.google.com/github/hindia-vic/deep_learning/blob/main/input_pipeline.ipynb\" target=\"_parent\"><img src=\"https://colab.research.google.com/assets/colab-badge.svg\" alt=\"Open In Colab\"/></a>"
      ]
    },
    {
      "cell_type": "code",
      "execution_count": 1,
      "metadata": {
        "id": "HerArhTSYQLH"
      },
      "outputs": [],
      "source": [
        "import tensorflow as tf"
      ]
    },
    {
      "cell_type": "code",
      "source": [
        "daily_sales_numbers = [21, 22, -108, 31, -1, 32, 34, 31]"
      ],
      "metadata": {
        "id": "ivlT8OIAbmTF"
      },
      "execution_count": 3,
      "outputs": []
    },
    {
      "cell_type": "code",
      "source": [
        "tf_dataset=tf.data.Dataset.from_tensor_slices(daily_sales_numbers)"
      ],
      "metadata": {
        "id": "LnhhqWyMbule"
      },
      "execution_count": 6,
      "outputs": []
    },
    {
      "cell_type": "code",
      "source": [
        "#view data in tf_dataset\n",
        "for sales in tf_dataset:\n",
        "    print(sales.numpy())"
      ],
      "metadata": {
        "colab": {
          "base_uri": "https://localhost:8080/"
        },
        "id": "IeYKkG8VcTbj",
        "outputId": "b31c29f7-2bb5-44e6-d376-48db6e2644f6"
      },
      "execution_count": 7,
      "outputs": [
        {
          "output_type": "stream",
          "name": "stdout",
          "text": [
            "21\n",
            "22\n",
            "-108\n",
            "31\n",
            "-1\n",
            "32\n",
            "34\n",
            "31\n"
          ]
        }
      ]
    },
    {
      "cell_type": "code",
      "source": [
        "#filtering negative number\n",
        "tf_dataset=tf_dataset.filter(lambda x:x>0)"
      ],
      "metadata": {
        "id": "mnEAxMUvcyVq"
      },
      "execution_count": 8,
      "outputs": []
    },
    {
      "cell_type": "code",
      "source": [
        "for sales in tf_dataset:\n",
        "    print(sales.numpy())"
      ],
      "metadata": {
        "colab": {
          "base_uri": "https://localhost:8080/"
        },
        "id": "h51VPKusc--Q",
        "outputId": "cc0b04aa-c120-45f0-d5a9-e75b1ba45d91"
      },
      "execution_count": 9,
      "outputs": [
        {
          "output_type": "stream",
          "name": "stdout",
          "text": [
            "21\n",
            "22\n",
            "31\n",
            "32\n",
            "34\n",
            "31\n"
          ]
        }
      ]
    },
    {
      "cell_type": "code",
      "source": [
        "#apply transformation\n",
        "tf_dataset=tf_dataset.map(lambda x:x*72)"
      ],
      "metadata": {
        "id": "ZZxeVLzldG-9"
      },
      "execution_count": 10,
      "outputs": []
    },
    {
      "cell_type": "code",
      "source": [
        "for sales in tf_dataset:\n",
        "    print(sales.numpy())"
      ],
      "metadata": {
        "colab": {
          "base_uri": "https://localhost:8080/"
        },
        "id": "1M2eX5mHdOW0",
        "outputId": "f852f485-092e-47ca-da93-4c75f57f783b"
      },
      "execution_count": 12,
      "outputs": [
        {
          "output_type": "stream",
          "name": "stdout",
          "text": [
            "1512\n",
            "1584\n",
            "2232\n",
            "2304\n",
            "2448\n",
            "2232\n"
          ]
        }
      ]
    },
    {
      "cell_type": "code",
      "source": [
        "#shuffling element\n",
        "tf_dataset=tf_dataset.shuffle(2)\n",
        "for sales in tf_dataset:\n",
        "    print(sales.numpy())"
      ],
      "metadata": {
        "colab": {
          "base_uri": "https://localhost:8080/"
        },
        "id": "drvvelF-dh3w",
        "outputId": "ef7431f0-3ff7-4b7f-93cf-449644b0dfd8"
      },
      "execution_count": 13,
      "outputs": [
        {
          "output_type": "stream",
          "name": "stdout",
          "text": [
            "1584\n",
            "1512\n",
            "2304\n",
            "2232\n",
            "2232\n",
            "2448\n"
          ]
        }
      ]
    },
    {
      "cell_type": "code",
      "source": [
        "#creating batches\n",
        "for sales_batch in tf_dataset.batch(2):\n",
        "    print(sales_batch.numpy())"
      ],
      "metadata": {
        "colab": {
          "base_uri": "https://localhost:8080/"
        },
        "id": "RlVkOf5KkVpa",
        "outputId": "bd1520ea-2ad3-4ca2-d593-27df277f96dc"
      },
      "execution_count": 14,
      "outputs": [
        {
          "output_type": "stream",
          "name": "stdout",
          "text": [
            "[1584 1512]\n",
            "[2232 2448]\n",
            "[2304 2232]\n"
          ]
        }
      ]
    },
    {
      "cell_type": "code",
      "source": [
        "#doing the above operation in a single line\n",
        "tf_dataset=tf.data.Dataset.from_tensor_slices(daily_sales_numbers)\n",
        "tf_dataset=tf_dataset.filter(lambda x:x>0).map(lambda y:y*72).shuffle(2).batch(2)\n",
        "for sales in tf_dataset:\n",
        "    print(sales.numpy())"
      ],
      "metadata": {
        "colab": {
          "base_uri": "https://localhost:8080/"
        },
        "id": "UBe5dXyxknRH",
        "outputId": "49fed94d-fa67-4e8d-b87e-a9c4b969dd81"
      },
      "execution_count": 16,
      "outputs": [
        {
          "output_type": "stream",
          "name": "stdout",
          "text": [
            "[1584 1512]\n",
            "[2232 2448]\n",
            "[2304 2232]\n"
          ]
        }
      ]
    },
    {
      "cell_type": "code",
      "source": [
        "#downloading cats and dogs dataset from kaggle\n",
        "import kagglehub\n",
        "\n",
        "# Download latest version\n",
        "path = kagglehub.dataset_download(\"karakaggle/kaggle-cat-vs-dog-dataset\")\n",
        "\n",
        "print(\"Path to dataset files:\", path)"
      ],
      "metadata": {
        "colab": {
          "base_uri": "https://localhost:8080/"
        },
        "id": "TmheJ3nHmGzj",
        "outputId": "092d1d30-5685-4a2e-86d5-8b2e738b6135"
      },
      "execution_count": 17,
      "outputs": [
        {
          "output_type": "stream",
          "name": "stdout",
          "text": [
            "Downloading from https://www.kaggle.com/api/v1/datasets/download/karakaggle/kaggle-cat-vs-dog-dataset?dataset_version_number=1...\n"
          ]
        },
        {
          "output_type": "stream",
          "name": "stderr",
          "text": [
            "100%|██████████| 787M/787M [00:13<00:00, 61.3MB/s]"
          ]
        },
        {
          "output_type": "stream",
          "name": "stdout",
          "text": [
            "Extracting files...\n"
          ]
        },
        {
          "output_type": "stream",
          "name": "stderr",
          "text": [
            "\n"
          ]
        },
        {
          "output_type": "stream",
          "name": "stdout",
          "text": [
            "Path to dataset files: /root/.cache/kagglehub/datasets/karakaggle/kaggle-cat-vs-dog-dataset/versions/1\n"
          ]
        }
      ]
    },
    {
      "cell_type": "code",
      "source": [
        "list(path.iterdir())"
      ],
      "metadata": {
        "colab": {
          "base_uri": "https://localhost:8080/"
        },
        "id": "QoZpZI1lrWep",
        "outputId": "27c6c89c-9f34-4cac-c355-e0e38c9b99ed"
      },
      "execution_count": 29,
      "outputs": [
        {
          "output_type": "execute_result",
          "data": {
            "text/plain": [
              "[PosixPath('/root/.cache/kagglehub/datasets/karakaggle/kaggle-cat-vs-dog-dataset/versions/1/kagglecatsanddogs_3367a')]"
            ]
          },
          "metadata": {},
          "execution_count": 29
        }
      ]
    },
    {
      "cell_type": "code",
      "source": [
        "import pandas as pd\n",
        "import pathlib\n",
        "path = pathlib.Path(path)\n",
        ""
      ],
      "metadata": {
        "id": "AcDZ1ofKnTIN"
      },
      "execution_count": 25,
      "outputs": []
    },
    {
      "cell_type": "code",
      "source": [
        "full=tf.data.Dataset.list_files(str(path /'kagglecatsanddogs_3367a'/ 'PetImages' / '*'/'*.jpg'),shuffle=False)"
      ],
      "metadata": {
        "id": "vtsI5Z0bq1kU"
      },
      "execution_count": 33,
      "outputs": []
    },
    {
      "cell_type": "code",
      "source": [
        "cats = tf.data.Dataset.list_files(str(path /'kagglecatsanddogs_3367a'/ 'PetImages' / 'Cat' / '*.jpg'))\n",
        "dogs = tf.data.Dataset.list_files(str(path /'kagglecatsanddogs_3367a' / 'PetImages' / 'Dog' / '*.jpg'))"
      ],
      "metadata": {
        "id": "_WAtU-Dym8Mt"
      },
      "execution_count": 30,
      "outputs": []
    },
    {
      "cell_type": "code",
      "source": [
        "for file in full.take(5):\n",
        "    print(file.numpy())"
      ],
      "metadata": {
        "colab": {
          "base_uri": "https://localhost:8080/"
        },
        "id": "IeQnBFoOs-B0",
        "outputId": "1e43495c-2c9e-4f2f-cc9a-0e3b3d61ff8a"
      },
      "execution_count": 35,
      "outputs": [
        {
          "output_type": "stream",
          "name": "stdout",
          "text": [
            "b'/root/.cache/kagglehub/datasets/karakaggle/kaggle-cat-vs-dog-dataset/versions/1/kagglecatsanddogs_3367a/PetImages/Cat/0.jpg'\n",
            "b'/root/.cache/kagglehub/datasets/karakaggle/kaggle-cat-vs-dog-dataset/versions/1/kagglecatsanddogs_3367a/PetImages/Cat/1.jpg'\n",
            "b'/root/.cache/kagglehub/datasets/karakaggle/kaggle-cat-vs-dog-dataset/versions/1/kagglecatsanddogs_3367a/PetImages/Cat/10.jpg'\n",
            "b'/root/.cache/kagglehub/datasets/karakaggle/kaggle-cat-vs-dog-dataset/versions/1/kagglecatsanddogs_3367a/PetImages/Cat/100.jpg'\n",
            "b'/root/.cache/kagglehub/datasets/karakaggle/kaggle-cat-vs-dog-dataset/versions/1/kagglecatsanddogs_3367a/PetImages/Cat/1000.jpg'\n"
          ]
        }
      ]
    },
    {
      "cell_type": "code",
      "source": [
        "#shuffling\n",
        "full=full.shuffle(24000)\n",
        "for file in full.take(5):\n",
        "    print(file.numpy())"
      ],
      "metadata": {
        "colab": {
          "base_uri": "https://localhost:8080/"
        },
        "id": "kABC2hpRtTMp",
        "outputId": "dcbbf86b-5510-49b6-9cfd-69b932930213"
      },
      "execution_count": 41,
      "outputs": [
        {
          "output_type": "stream",
          "name": "stdout",
          "text": [
            "b'/root/.cache/kagglehub/datasets/karakaggle/kaggle-cat-vs-dog-dataset/versions/1/kagglecatsanddogs_3367a/PetImages/Cat/10091.jpg'\n",
            "b'/root/.cache/kagglehub/datasets/karakaggle/kaggle-cat-vs-dog-dataset/versions/1/kagglecatsanddogs_3367a/PetImages/Dog/4392.jpg'\n",
            "b'/root/.cache/kagglehub/datasets/karakaggle/kaggle-cat-vs-dog-dataset/versions/1/kagglecatsanddogs_3367a/PetImages/Dog/3026.jpg'\n",
            "b'/root/.cache/kagglehub/datasets/karakaggle/kaggle-cat-vs-dog-dataset/versions/1/kagglecatsanddogs_3367a/PetImages/Cat/11595.jpg'\n",
            "b'/root/.cache/kagglehub/datasets/karakaggle/kaggle-cat-vs-dog-dataset/versions/1/kagglecatsanddogs_3367a/PetImages/Cat/9611.jpg'\n"
          ]
        }
      ]
    },
    {
      "cell_type": "code",
      "source": [
        "image_count=len(full)\n",
        "print(image_count)"
      ],
      "metadata": {
        "colab": {
          "base_uri": "https://localhost:8080/"
        },
        "id": "Yt8qG4svt67j",
        "outputId": "fd70f0a2-8c0c-47a4-cefd-b6a1c3bcb5ce"
      },
      "execution_count": 38,
      "outputs": [
        {
          "output_type": "stream",
          "name": "stdout",
          "text": [
            "24959\n"
          ]
        }
      ]
    },
    {
      "cell_type": "code",
      "source": [
        "trainsize=int(image_count*0.8)\n",
        "print(trainsize)"
      ],
      "metadata": {
        "colab": {
          "base_uri": "https://localhost:8080/"
        },
        "id": "O5JelZSLubU_",
        "outputId": "0ded065a-b07f-4a4b-a617-0a43843825c4"
      },
      "execution_count": 42,
      "outputs": [
        {
          "output_type": "stream",
          "name": "stdout",
          "text": [
            "19967\n"
          ]
        }
      ]
    },
    {
      "cell_type": "code",
      "source": [
        "#dividing train and test\n",
        "train_ds=full.take(trainsize)\n",
        "test_ds=full.skip(trainsize)"
      ],
      "metadata": {
        "id": "rYirJA0fumUx"
      },
      "execution_count": 44,
      "outputs": []
    },
    {
      "cell_type": "code",
      "source": [
        "len(test_ds)"
      ],
      "metadata": {
        "colab": {
          "base_uri": "https://localhost:8080/"
        },
        "id": "Ui4sQUpmu9h9",
        "outputId": "300d1584-3b31-4e4b-f7f0-80ad3f68141d"
      },
      "execution_count": 45,
      "outputs": [
        {
          "output_type": "execute_result",
          "data": {
            "text/plain": [
              "4992"
            ]
          },
          "metadata": {},
          "execution_count": 45
        }
      ]
    },
    {
      "cell_type": "code",
      "source": [
        "def get_label(file_path):\n",
        "    import os\n",
        "    return tf.strings.split(file_path,os.path.sep)[-2]\n"
      ],
      "metadata": {
        "id": "ft1_RYxmvKvD"
      },
      "execution_count": 48,
      "outputs": []
    },
    {
      "cell_type": "code",
      "source": [
        "def process_image(file_path):\n",
        "  label=get_label(file_path)\n",
        "  img=tf.io.read_file(file_path)\n",
        "  img=tf.image.decode_jpeg(img)\n",
        "  img=tf.image.resize(img,[128,128])\n",
        "  return img , label"
      ],
      "metadata": {
        "id": "RAnsd2THxyFE"
      },
      "execution_count": 51,
      "outputs": []
    },
    {
      "cell_type": "code",
      "source": [
        "train_ds=train_ds.map(process_image)\n",
        "for img, label in train_ds.take(3):\n",
        "  print('image:',img)\n",
        "  print('label:',label)"
      ],
      "metadata": {
        "colab": {
          "base_uri": "https://localhost:8080/"
        },
        "id": "mHCQ7yvZzJcO",
        "outputId": "4d2f25ec-6e50-498c-f0d8-d293ce360905"
      },
      "execution_count": 58,
      "outputs": [
        {
          "output_type": "stream",
          "name": "stdout",
          "text": [
            "image: tf.Tensor(\n",
            "[[[ 49.10437   43.10437   54.01062 ]\n",
            "  [ 43.356934  39.326904  53.68628 ]\n",
            "  [ 20.53125   16.265625  34.0625  ]\n",
            "  ...\n",
            "  [128.86841  120.82153   97.72778 ]\n",
            "  [166.91272  160.88928  136.79553 ]\n",
            "  [152.54309  141.51965  119.4259  ]]\n",
            "\n",
            " [[ 64.28064   64.17847   73.11658 ]\n",
            "  [ 51.36902   50.894287  63.65808 ]\n",
            "  [ 24.612427  23.471802  40.073364]\n",
            "  ...\n",
            "  [219.63074  217.43408  217.74963 ]\n",
            "  [207.27576  207.03955  206.40674 ]\n",
            "  [231.00415  229.5907   229.50476 ]]\n",
            "\n",
            " [[ 85.453     95.98425  101.12488 ]\n",
            "  [ 50.68445   58.78125   68.69226 ]\n",
            "  [ 19.78894   25.437378  40.085815]\n",
            "  ...\n",
            "  [211.0697   220.39026  229.3042  ]\n",
            "  [235.177    246.67224  254.59717 ]\n",
            "  [222.61108  237.01416  243.96106 ]]\n",
            "\n",
            " ...\n",
            "\n",
            " [[191.8081   184.71436  148.71436 ]\n",
            "  [164.7782   159.13757  125.85632 ]\n",
            "  [195.17175  190.43738  161.23425 ]\n",
            "  ...\n",
            "  [182.78943  177.78943  147.78943 ]\n",
            "  [195.57642  190.57642  160.57642 ]\n",
            "  [169.79224  169.46411  138.06409 ]]\n",
            "\n",
            " [[195.13965  188.0459   152.0459  ]\n",
            "  [194.2937   188.65308  155.37183 ]\n",
            "  [199.32544  194.59106  165.38794 ]\n",
            "  ...\n",
            "  [143.99658  138.85596  108.92627 ]\n",
            "  [177.80518  172.66455  142.73486 ]\n",
            "  [146.31372  139.1731   110.173096]]\n",
            "\n",
            " [[197.6947   190.60095  154.60095 ]\n",
            "  [185.36182  179.72119  146.43994 ]\n",
            "  [181.88281  177.14844  147.94531 ]\n",
            "  ...\n",
            "  [165.30627  156.30627  127.306274]\n",
            "  [126.827515 117.827515  88.827515]\n",
            "  [132.7528   118.75281   91.75281 ]]], shape=(128, 128, 3), dtype=float32)\n",
            "label: tf.Tensor(b'Dog', shape=(), dtype=string)\n",
            "image: tf.Tensor(\n",
            "[[[ 85.091675  84.091675  80.997925]\n",
            "  [ 99.76611   98.76611   95.67236 ]\n",
            "  [105.651    104.651    101.55725 ]\n",
            "  ...\n",
            "  [134.       149.       144.      ]\n",
            "  [134.       149.       144.      ]\n",
            "  [134.30798  149.30798  145.66736 ]]\n",
            "\n",
            " [[ 67.7948    65.7948    67.51355 ]\n",
            "  [ 81.010864  79.010864  80.729614]\n",
            "  [ 75.007935  73.007935  74.726685]\n",
            "  ...\n",
            "  [134.       149.       144.      ]\n",
            "  [134.       149.       144.      ]\n",
            "  [132.88489  147.88489  144.24426 ]]\n",
            "\n",
            " [[ 72.76477   70.76477   73.23352 ]\n",
            "  [ 73.01306   71.01306   73.48181 ]\n",
            "  [ 77.265625  75.265625  77.734375]\n",
            "  ...\n",
            "  [135.       150.       145.      ]\n",
            "  [135.       150.       145.      ]\n",
            "  [133.64062  148.64062  145.      ]]\n",
            "\n",
            " ...\n",
            "\n",
            " [[126.       136.       128.      ]\n",
            "  [126.       136.       128.      ]\n",
            "  [126.       136.       128.      ]\n",
            "  ...\n",
            "  [146.2926   149.2926   154.2926  ]\n",
            "  [149.       152.       157.      ]\n",
            "  [150.53821  153.53821  158.53821 ]]\n",
            "\n",
            " [[126.       136.       128.      ]\n",
            "  [126.       136.       128.      ]\n",
            "  [126.       136.       128.      ]\n",
            "  ...\n",
            "  [147.78381  150.78381  155.78381 ]\n",
            "  [150.       153.       158.      ]\n",
            "  [149.44946  152.44946  157.44946 ]]\n",
            "\n",
            " [[127.67969  134.67969  127.67969 ]\n",
            "  [127.       134.       127.      ]\n",
            "  [128.       135.       128.      ]\n",
            "  ...\n",
            "  [153.18054  154.18054  159.18054 ]\n",
            "  [149.07605  148.07605  153.07605 ]\n",
            "  [154.67969  154.       158.71875 ]]], shape=(128, 128, 3), dtype=float32)\n",
            "label: tf.Tensor(b'Cat', shape=(), dtype=string)\n",
            "image: tf.Tensor(\n",
            "[[[ 44.182068   70.12677    27.654419 ]\n",
            "  [ 50.281982   82.28198    35.281982 ]\n",
            "  [ 38.058777   62.1994     15.465027 ]\n",
            "  ...\n",
            "  [157.12073   130.32385    97.05823  ]\n",
            "  [171.58337   149.65094   110.65369  ]\n",
            "  [143.31885   130.38916    86.31885  ]]\n",
            "\n",
            " [[ 20.735535   45.735535    5.7355347]\n",
            "  [ 36.06134    65.31018    20.553528 ]\n",
            "  [ 43.63336    64.43872    18.67633  ]\n",
            "  ...\n",
            "  [129.39008   101.28461    64.60101  ]\n",
            "  [175.8753    146.98077   107.08624  ]\n",
            "  [127.235535  102.76288    71.341    ]]\n",
            "\n",
            " [[ 33.552124   53.903687   18.727905 ]\n",
            "  [ 18.461609   44.341187    4.5670776]\n",
            "  [ 42.43994    60.424133   15.8619995]\n",
            "  ...\n",
            "  [163.6427    141.26025    98.00653  ]\n",
            "  [149.38635   115.1051     72.74573  ]\n",
            "  [158.75409   127.10565    89.80878  ]]\n",
            "\n",
            " ...\n",
            "\n",
            " [[106.95685    85.316895   65.84662  ]\n",
            "  [121.01099   105.0813     84.96088  ]\n",
            "  [ 63.462036   54.915344   29.732117 ]\n",
            "  ...\n",
            "  [ 84.627014   85.18561    42.69342  ]\n",
            "  [ 66.70172    59.835205   37.68152  ]\n",
            "  [109.5271    100.230225   74.10913  ]]\n",
            "\n",
            " [[121.61572    99.327576   84.12836  ]\n",
            "  [ 64.452515   53.35486    36.276733 ]\n",
            "  [ 79.1413     77.352234   52.401672 ]\n",
            "  ...\n",
            "  [ 80.33203    89.26105    28.77533  ]\n",
            "  [101.784      96.75665    70.01172  ]\n",
            "  [ 82.12891    80.78308    59.73529  ]]\n",
            "\n",
            " [[105.434875   89.028625   73.0094   ]\n",
            "  [ 72.27985    66.76514    48.46344  ]\n",
            "  [ 77.1568     79.4834     54.660706 ]\n",
            "  ...\n",
            "  [ 56.82257    62.58429    20.201477 ]\n",
            "  [ 30.726074   21.769043    9.710449 ]\n",
            "  [ 37.401123   43.50659    17.471436 ]]], shape=(128, 128, 3), dtype=float32)\n",
            "label: tf.Tensor(b'Dog', shape=(), dtype=string)\n"
          ]
        }
      ]
    },
    {
      "cell_type": "code",
      "source": [
        "def scale(image,label):\n",
        "  return image/255, label"
      ],
      "metadata": {
        "id": "FPSAauBb0yBO"
      },
      "execution_count": 59,
      "outputs": []
    },
    {
      "cell_type": "code",
      "source": [
        "train_ds=train_ds.map(scale)\n",
        "for image,label in train_ds.take(5):\n",
        "  print('image:',image.numpy()[0][0])\n",
        "  print('label:',label.numpy())\n"
      ],
      "metadata": {
        "colab": {
          "base_uri": "https://localhost:8080/"
        },
        "id": "8IVMaED11DfT",
        "outputId": "22726a22-d100-47b2-97f5-a657b4f999ce"
      },
      "execution_count": 60,
      "outputs": [
        {
          "output_type": "stream",
          "name": "stdout",
          "text": [
            "image: [0.52009803 0.6247549  0.4060049 ]\n",
            "label: b'Dog'\n",
            "image: [0.2780637  0.30729166 0.3647059 ]\n",
            "label: b'Cat'\n",
            "image: [0.29411766 0.28235295 0.24705882]\n",
            "label: b'Cat'\n",
            "image: [0.354542   0.40589002 0.40589002]\n",
            "label: b'Cat'\n",
            "image: [0.71066177 0.7224265  0.78909314]\n",
            "label: b'Cat'\n"
          ]
        }
      ]
    },
    {
      "cell_type": "code",
      "source": [
        "train_ds=train_ds.map(lambda x: (x,get_label(x)))\n",
        "test_ds=test_ds.map(lambda x: (x,get_label(x)))"
      ],
      "metadata": {
        "colab": {
          "base_uri": "https://localhost:8080/",
          "height": 141
        },
        "id": "vl36SC_HwQeB",
        "outputId": "74af68e0-7027-4b63-f26f-0943b3d04fd1"
      },
      "execution_count": 47,
      "outputs": [
        {
          "output_type": "error",
          "ename": "NameError",
          "evalue": "name 'train' is not defined",
          "traceback": [
            "\u001b[0;31m---------------------------------------------------------------------------\u001b[0m",
            "\u001b[0;31mNameError\u001b[0m                                 Traceback (most recent call last)",
            "\u001b[0;32m<ipython-input-47-3536571a9bc3>\u001b[0m in \u001b[0;36m<cell line: 1>\u001b[0;34m()\u001b[0m\n\u001b[0;32m----> 1\u001b[0;31m \u001b[0mtrain\u001b[0m\u001b[0;34m\u001b[0m\u001b[0;34m\u001b[0m\u001b[0m\n\u001b[0m",
            "\u001b[0;31mNameError\u001b[0m: name 'train' is not defined"
          ]
        }
      ]
    }
  ]
}